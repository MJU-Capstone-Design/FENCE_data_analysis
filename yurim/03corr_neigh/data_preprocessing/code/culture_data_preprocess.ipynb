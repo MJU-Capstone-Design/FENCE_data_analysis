{
 "cells": [
  {
   "cell_type": "code",
   "execution_count": 2,
   "metadata": {},
   "outputs": [],
   "source": [
    "import numpy as np\n",
    "import pandas as pd\n",
    "culture_center = pd.read_csv('./data/seoul_culture.csv', encoding = 'euc-kr')\n",
    "culture_center = culture_center[['새주소','지번주소', '좌표정보','좌표정보.1','콘텐츠 명','구명','상세정보 값 1']]\n",
    "culture_center = culture_center.dropna()\n",
    "culture_center\n",
    "culture_center.to_csv(\"df_culture_center.csv\", encoding='euc-kr')"
   ]
  },
  {
   "cell_type": "code",
   "execution_count": null,
   "metadata": {},
   "outputs": [],
   "source": []
  }
 ],
 "metadata": {
  "kernelspec": {
   "display_name": "Python 3",
   "language": "python",
   "name": "python3"
  },
  "language_info": {
   "codemirror_mode": {
    "name": "ipython",
    "version": 3
   },
   "file_extension": ".py",
   "mimetype": "text/x-python",
   "name": "python",
   "nbconvert_exporter": "python",
   "pygments_lexer": "ipython3",
   "version": "3.7.4"
  }
 },
 "nbformat": 4,
 "nbformat_minor": 2
}
